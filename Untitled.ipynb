{
 "cells": [
  {
   "cell_type": "code",
   "execution_count": null,
   "metadata": {},
   "outputs": [],
   "source": [
    "import pandas as pd\n",
    "import numpy as np\n",
    "import pandas as pd\n",
    "import numpy as np\n",
    "import re\n",
    "import string\n",
    "import random"
   ]
  },
  {
   "cell_type": "code",
   "execution_count": null,
   "metadata": {},
   "outputs": [],
   "source": [
    "df = pd.read_csv(\"goodreads_dataset.csv\", encoding='ISO-8859-1')\n",
    "df.shape"
   ]
  },
  {
   "cell_type": "code",
   "execution_count": null,
   "metadata": {},
   "outputs": [],
   "source": [
    "genre = ['fantasy', 'young-adult', 'romance', 'mystery', 'comedy', 'crime', 'business', 'food', 'politics', 'biography', 'fiction', 'non-fiction', 'scifi', 'finance', 'horror', 'adventure' 'history', 'religion', 'children', 'comics', 'education', 'science', 'sports', 'society', 'environment', 'arts', 'poetry']\n",
    "            "
   ]
  },
  {
   "cell_type": "code",
   "execution_count": null,
   "metadata": {},
   "outputs": [],
   "source": [
    "df_tags = pd.read_csv(\"tags.csv\", encoding='ISO-8859-1')\n",
    "df_tags.shape"
   ]
  },
  {
   "cell_type": "code",
   "execution_count": null,
   "metadata": {},
   "outputs": [],
   "source": [
    "df_tags=df_tags.dropna()\n",
    "df_tags.head"
   ]
  },
  {
   "cell_type": "code",
   "execution_count": null,
   "metadata": {},
   "outputs": [],
   "source": [
    "df_book_tags = pd.read_csv(\"book_tags.csv\", encoding='ISO-8859-1')\n",
    "df_book_tags.shape"
   ]
  },
  {
   "cell_type": "code",
   "execution_count": null,
   "metadata": {},
   "outputs": [],
   "source": [
    "for i in df_tags['tag_name']:  \n",
    "    if 'crime' in i or 'serial-' in i or 'murder' in i or 'detective' in i or 'police' in i:\n",
    "        i='crime'\n",
    "        print(i)\n",
    "    elif 'scifi' in i or 'sci-fi' in i or 'science-fiction' in i:\n",
    "        i='scifi'\n",
    "        print(i)\n",
    "    elif 'food' in i or 'cook' in i:\n",
    "        i='food'\n",
    "        print(i)\n",
    "    elif 'biography' in i:\n",
    "        i='biography'\n",
    "        print(i)\n",
    "    elif 'comic' in i or 'manga' in i or 'graphic-novel' in i:\n",
    "        i='comics'\n",
    "        print(i)\n",
    "    elif 'youngadult' in i or '-ya-' in i or 'young-adult' in i:\n",
    "        i='young-adult'\n",
    "        print(i)\n",
    "    elif 'fantasy' in i or 'myth' in i or 'lore' in i or 'magic' in i or 'vampire' in i or 'witch' in i or 'wizard' in i or 'harry-potter' in i:\n",
    "        i='fantasy'\n",
    "        print(i)\n",
    "    elif 'mystery' in i:\n",
    "        i='mystery'\n",
    "        print(i)\n",
    "    elif 'adventure' in i:\n",
    "        i='adventure'\n",
    "        print(i)\n",
    "    elif 'horror' in i or 'monster' in i or 'ghost' in i or 'scary' in i or 'gothic' in i:\n",
    "        i='horror'\n",
    "        print(i)\n",
    "    elif 'humor' in i or 'humour' in i or 'comed' in i:\n",
    "        i='comedy'\n",
    "        print(i)\n",
    "    elif 'science' in i or 'tech' in i or 'physics' in i or 'biology' in i or 'chemistry' in i or 'maths' in i or 'mathematics' in i or 'space' in i or 'computer' in i:\n",
    "        i='science'\n",
    "        print(i)\n",
    "    elif 'century' in i or 'histor' in i:\n",
    "        i='history'\n",
    "        print(i)\n",
    "    elif 'war' in i or 'military' in i or 'politic' in i:\n",
    "        i='politics'\n",
    "        print(i)\n",
    "    elif 'business' in i or 'leader' in i:\n",
    "        i='business'\n",
    "        print(i)\n",
    "    elif 'spiritual' in i or 'religion' in i or 'hindu' in i or 'christ' in i or 'islam' in i or 'buddha' in i or 'buddhism' in i or 'sacred' in i or 'philosophy' in i:\n",
    "        i='spiritual'\n",
    "        print(i)\n",
    "    elif 'art' in i or 'craft' in i or 'dance' in i or 'music' in i:\n",
    "        i='arts'\n",
    "        print(i)\n",
    "    elif 'romance' in i or 'love' in i or 'romantic' in i:\n",
    "        i='romance'\n",
    "        print(i)\n",
    "    elif 'child' in i or 'grade' in i or 'illustrat' in i or 'kids' in i:\n",
    "        i='children'\n",
    "        print(i)\n",
    "    elif 'non-fiction' in i:\n",
    "        i='non-fiction'\n",
    "        print(i)\n",
    "    elif 'fiction' in i and 'non-fiction' not in i and 'nonfiction' not in i:\n",
    "        i='fiction'\n",
    "        print(i)\n",
    "    else:\n",
    "        i=i\n",
    "    "
   ]
  },
  {
   "cell_type": "code",
   "execution_count": null,
   "metadata": {},
   "outputs": [],
   "source": []
  }
 ],
 "metadata": {
  "kernelspec": {
   "display_name": "Python 3",
   "language": "python",
   "name": "python3"
  },
  "language_info": {
   "codemirror_mode": {
    "name": "ipython",
    "version": 3
   },
   "file_extension": ".py",
   "mimetype": "text/x-python",
   "name": "python",
   "nbconvert_exporter": "python",
   "pygments_lexer": "ipython3",
   "version": "3.7.7"
  }
 },
 "nbformat": 4,
 "nbformat_minor": 4
}
